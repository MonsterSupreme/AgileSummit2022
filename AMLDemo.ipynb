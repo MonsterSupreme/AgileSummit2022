{
 "cells": [
  {
   "cell_type": "code",
   "execution_count": null,
   "id": "c8c83960",
   "metadata": {},
   "outputs": [],
   "source": [
    "from azure.ai.ml import MLClient"
   ]
  },
  {
   "cell_type": "code",
   "execution_count": null,
   "id": "9b9a86dd",
   "metadata": {},
   "outputs": [],
   "source": [
    "pip uninstall azure-ai-ml --yes"
   ]
  },
  {
   "cell_type": "code",
   "execution_count": null,
   "id": "75fb3ba1",
   "metadata": {},
   "outputs": [],
   "source": [
    "pip install --pre azure-ai-ml"
   ]
  },
  {
   "cell_type": "code",
   "execution_count": null,
   "id": "31c09751",
   "metadata": {
    "scrolled": true
   },
   "outputs": [],
   "source": [
    "pip install mlflow azureml-mlflow"
   ]
  },
  {
   "cell_type": "code",
   "execution_count": null,
   "id": "9a10b911",
   "metadata": {},
   "outputs": [],
   "source": [
    "# Import required classes and functions\n",
    "from azure.identity import DefaultAzureCredential, InteractiveBrowserCredential\n",
    "# Machine Learning Workspace\n",
    "from azure.ai.ml import MLClient\n",
    "# Compute Target\n",
    "from azure.ai.ml.entities import AmlCompute\n",
    "# Command and Arguments\n",
    "from azure.ai.ml import command, Input\n",
    "# MLflow Support\n",
    "import mlflow\n",
    "# Model\n",
    "from azure.ai.ml.entities import Model"
   ]
  },
  {
   "cell_type": "code",
   "execution_count": null,
   "id": "d056a5ab",
   "metadata": {},
   "outputs": [],
   "source": [
    "# Get the credential\n",
    "try:\n",
    "    credential = DefaultAzureCredential()\n",
    "    # Check if given credential can get token successfully.\n",
    "    credential.get_token(\"https://management.azure.com/.default\")\n",
    "except Exception as ex:\n",
    "    # Fall back to InteractiveBrowserCredential in case DefaultAzureCredential not work\n",
    "    # This will open a browser page for\n",
    "    credential = InteractiveBrowserCredential()"
   ]
  },
  {
   "cell_type": "code",
   "execution_count": null,
   "id": "d9ff386e",
   "metadata": {},
   "outputs": [],
   "source": [
    "# Get a handle to the workspace\n",
    "ml_client = MLClient(\n",
    "    credential=credential,\n",
    "    subscription_id=\"<<SUBSCRIPTION_ID>>\",\n",
    "    resource_group_name=\"<<RESOURCE_GROUP_NAME>>\",\n",
    "    workspace_name=\"<<MACHINE_LEARNING_WORKSPACE_NAME>>\"\n",
    ")\n",
    "print(ml_client)"
   ]
  },
  {
   "cell_type": "code",
   "execution_count": null,
   "id": "a64bfa24",
   "metadata": {},
   "outputs": [],
   "source": [
    "# Get the compute target\n",
    "compute_target_name = \"ComputeClusterDemo\"\n",
    "\n",
    "try:\n",
    "    # Check if the compute target already exists\n",
    "    compute_target = ml_client.compute.get(compute_target_name)\n",
    "    print(f\"{compute_target.name} of node size {compute_target.size} is reused.\")\n",
    "except Exception:\n",
    "    compute_target = AmlCompute(\n",
    "        name=compute_target_name,\n",
    "        type=\"amlcompute\",\n",
    "        size=\"Standard_D2s_v3\",\n",
    "        min_instances=0,\n",
    "        max_instances=2,\n",
    "        idle_time_before_scale_down=120,\n",
    "        tier=\"Dedicated\"\n",
    "    )\n",
    "    compute_target = ml_client.begin_create_or_update(compute_target)\n",
    "    print(f\"{compute_target.name} of node size {compute_target.size} is created.\")"
   ]
  },
  {
   "cell_type": "code",
   "execution_count": null,
   "id": "15b16edf",
   "metadata": {},
   "outputs": [],
   "source": [
    "# Define the command\n",
    "experiment_name = \"AgileSummit2022\"\n",
    "\n",
    "command_job = command(\n",
    "    experiment_name=experiment_name,\n",
    "    code=\"./src\",\n",
    "    command=\"python main.py --iris-csv ${{inputs.csv}} --learning-rate ${{inputs.rate}} --boosting ${{inputs.boost}}\",\n",
    "    environment=\"AzureML-lightgbm-3.2-ubuntu18.04-py37-cpu@latest\",\n",
    "    inputs={\n",
    "        \"csv\": Input(\n",
    "            type=\"uri_file\",\n",
    "            path=\"https://azuremlexamples.blob.core.windows.net/datasets/iris.csv\",\n",
    "        ),\n",
    "        \"rate\": 0.9,\n",
    "        \"boost\": \"gbdt\",\n",
    "    },\n",
    "    compute=\"ComputeClusterDemo\",\n",
    ")"
   ]
  },
  {
   "cell_type": "code",
   "execution_count": null,
   "id": "9d689b6e",
   "metadata": {},
   "outputs": [],
   "source": [
    "# Enable logging\n",
    "mlflow.autolog()"
   ]
  },
  {
   "cell_type": "code",
   "execution_count": null,
   "id": "3ca788b6",
   "metadata": {},
   "outputs": [],
   "source": [
    "# Submit the command\n",
    "returned_job = ml_client.jobs.create_or_update(command_job)\n",
    "print(\"Job name:\", returned_job.name)\n",
    "\n",
    "# Get a URL for the status of the job\n",
    "print(\"Job url:\", returned_job.services[\"Studio\"].endpoint)"
   ]
  },
  {
   "cell_type": "code",
   "execution_count": null,
   "id": "b71a9a9c",
   "metadata": {},
   "outputs": [],
   "source": [
    "# Find the model path\n",
    "job_path = f\"azureml://jobs/{returned_job.name}/outputs/artifacts/paths/model/\"\n",
    "print(\"Job path:\", job_path) "
   ]
  },
  {
   "cell_type": "code",
   "execution_count": null,
   "id": "5f904395",
   "metadata": {},
   "outputs": [],
   "source": [
    "# Register the model\n",
    "import time\n",
    "\n",
    "while True: \n",
    "    status = mlflow.get_run(returned_job.name).info.status\n",
    "    print(\"Job status:\", status)\n",
    "    if status == \"FINISHED\":\n",
    "        break\n",
    "    else:\n",
    "        time.sleep(5)\n",
    "\n",
    "run_model = Model(\n",
    "    path=job_path,\n",
    "    name=\"IrisModel\",\n",
    "    description=f\"Model created from experiment {experiment_name} run {returned_job.name}.\",\n",
    "    type=\"mlflow_model\"\n",
    ")\n",
    "ml_client.models.create_or_update(run_model) "
   ]
  }
 ],
 "metadata": {
  "kernelspec": {
   "display_name": "Python 3.8 - AzureML",
   "language": "python",
   "name": "python38-azureml"
  },
  "language_info": {
   "codemirror_mode": {
    "name": "ipython",
    "version": 3
   },
   "file_extension": ".py",
   "mimetype": "text/x-python",
   "name": "python",
   "nbconvert_exporter": "python",
   "pygments_lexer": "ipython3",
   "version": "3.8.13"
  }
 },
 "nbformat": 4,
 "nbformat_minor": 5
}
