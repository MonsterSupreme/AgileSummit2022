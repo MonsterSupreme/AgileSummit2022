{
 "cells": [
  {
   "cell_type": "code",
   "execution_count": 1,
   "id": "c8c83960",
   "metadata": {},
   "outputs": [
    {
     "ename": "ModuleNotFoundError",
     "evalue": "No module named 'azure.ai'",
     "output_type": "error",
     "traceback": [
      "\u001b[0;31m---------------------------------------------------------------------------\u001b[0m",
      "\u001b[0;31mModuleNotFoundError\u001b[0m                       Traceback (most recent call last)",
      "Input \u001b[0;32mIn [1]\u001b[0m, in \u001b[0;36m<cell line: 2>\u001b[0;34m()\u001b[0m\n\u001b[1;32m      1\u001b[0m \u001b[38;5;66;03m# Import required libraries\u001b[39;00m\n\u001b[0;32m----> 2\u001b[0m \u001b[38;5;28;01mfrom\u001b[39;00m \u001b[38;5;21;01mazure\u001b[39;00m\u001b[38;5;21;01m.\u001b[39;00m\u001b[38;5;21;01mai\u001b[39;00m\u001b[38;5;21;01m.\u001b[39;00m\u001b[38;5;21;01mml\u001b[39;00m \u001b[38;5;28;01mimport\u001b[39;00m MLClient\n",
      "\u001b[0;31mModuleNotFoundError\u001b[0m: No module named 'azure.ai'"
     ]
    }
   ],
   "source": [
    "# Import required libraries\n",
    "from azure.ai.ml import MLClient"
   ]
  },
  {
   "cell_type": "code",
   "execution_count": 2,
   "id": "9b9a86dd",
   "metadata": {},
   "outputs": [
    {
     "name": "stdout",
     "output_type": "stream",
     "text": [
      "\u001b[33mWARNING: Skipping azure-ai-ml as it is not installed.\u001b[0m\n",
      "Note: you may need to restart the kernel to use updated packages.\n"
     ]
    }
   ],
   "source": [
    "pip uninstall azure-ai-ml"
   ]
  },
  {
   "cell_type": "code",
   "execution_count": 3,
   "id": "75fb3ba1",
   "metadata": {},
   "outputs": [
    {
     "name": "stdout",
     "output_type": "stream",
     "text": [
      "Collecting azure-ai-ml\n",
      "  Downloading azure_ai_ml-0.1.0b6-py3-none-any.whl (2.7 MB)\n",
      "\u001b[K     |████████████████████████████████| 2.7 MB 5.3 MB/s eta 0:00:01\n",
      "\u001b[?25hRequirement already satisfied: azure-core!=1.22.0,<2.0.0,>=1.8.0 in /anaconda/envs/azureml_py38/lib/python3.8/site-packages (from azure-ai-ml) (1.22.1)\n",
      "Requirement already satisfied: azure-identity in /anaconda/envs/azureml_py38/lib/python3.8/site-packages (from azure-ai-ml) (1.7.0)\n",
      "Collecting colorama<=0.4.4\n",
      "  Downloading colorama-0.4.4-py2.py3-none-any.whl (16 kB)\n",
      "Requirement already satisfied: azure-common<2.0.0,>=1.1 in /anaconda/envs/azureml_py38/lib/python3.8/site-packages (from azure-ai-ml) (1.1.28)\n",
      "Collecting tqdm<=4.63.0\n",
      "  Downloading tqdm-4.63.0-py2.py3-none-any.whl (76 kB)\n",
      "\u001b[K     |████████████████████████████████| 76 kB 2.9 MB/s  eta 0:00:01\n",
      "\u001b[?25hRequirement already satisfied: docker in /anaconda/envs/azureml_py38/lib/python3.8/site-packages (from azure-ai-ml) (5.0.3)\n",
      "Collecting strictyaml<=1.6.1\n",
      "  Downloading strictyaml-1.6.1.tar.gz (137 kB)\n",
      "\u001b[K     |████████████████████████████████| 137 kB 40.6 MB/s eta 0:00:01\n",
      "\u001b[?25hCollecting marshmallow<4.0.0,>=3.5\n",
      "  Downloading marshmallow-3.17.1-py3-none-any.whl (48 kB)\n",
      "\u001b[K     |████████████████████████████████| 48 kB 4.1 MB/s  eta 0:00:01\n",
      "\u001b[?25hCollecting azure-storage-file-share<12.9.0\n",
      "  Downloading azure_storage_file_share-12.8.0-py3-none-any.whl (243 kB)\n",
      "\u001b[K     |████████████████████████████████| 243 kB 44.8 MB/s eta 0:00:01\n",
      "\u001b[?25hCollecting pydash<=4.9.0\n",
      "  Downloading pydash-4.9.0-py2.py3-none-any.whl (85 kB)\n",
      "\u001b[K     |████████████████████████████████| 85 kB 4.9 MB/s  eta 0:00:01\n",
      "\u001b[?25hCollecting azure-storage-blob<12.13.0,>=12.10.0\n",
      "  Downloading azure_storage_blob-12.12.0-py3-none-any.whl (366 kB)\n",
      "\u001b[K     |████████████████████████████████| 366 kB 45.1 MB/s eta 0:00:01\n",
      "\u001b[?25hRequirement already satisfied: typing-extensions>=4.0.1 in /anaconda/envs/azureml_py38/lib/python3.8/site-packages (from azure-ai-ml) (4.2.0)\n",
      "Requirement already satisfied: isodate in /anaconda/envs/azureml_py38/lib/python3.8/site-packages (from azure-ai-ml) (0.6.1)\n",
      "Requirement already satisfied: azure-mgmt-core<2.0.0,>=1.2.0 in /anaconda/envs/azureml_py38/lib/python3.8/site-packages (from azure-ai-ml) (1.3.0)\n",
      "Requirement already satisfied: pyjwt<3.0.0 in /anaconda/envs/azureml_py38/lib/python3.8/site-packages (from azure-ai-ml) (2.4.0)\n",
      "Requirement already satisfied: applicationinsights<=0.11.10 in /anaconda/envs/azureml_py38/lib/python3.8/site-packages (from azure-ai-ml) (0.11.10)\n",
      "Requirement already satisfied: pathspec==0.9.* in /anaconda/envs/azureml_py38/lib/python3.8/site-packages (from azure-ai-ml) (0.9.0)\n",
      "Requirement already satisfied: pyyaml<7.0.0,>=5.1.0 in /anaconda/envs/azureml_py38/lib/python3.8/site-packages (from azure-ai-ml) (6.0)\n",
      "Collecting azure-storage-file-datalake<12.8.0\n",
      "  Downloading azure_storage_file_datalake-12.7.0-py3-none-any.whl (224 kB)\n",
      "\u001b[K     |████████████████████████████████| 224 kB 35.8 MB/s eta 0:00:01\n",
      "\u001b[?25hRequirement already satisfied: msrest>=0.6.18 in /anaconda/envs/azureml_py38/lib/python3.8/site-packages (from azure-ai-ml) (0.6.21)\n",
      "Requirement already satisfied: jsonschema<5.0.0,>=4.0.0 in /anaconda/envs/azureml_py38/lib/python3.8/site-packages (from azure-ai-ml) (4.6.0)\n",
      "Requirement already satisfied: six>=1.11.0 in /anaconda/envs/azureml_py38/lib/python3.8/site-packages (from azure-core!=1.22.0,<2.0.0,>=1.8.0->azure-ai-ml) (1.16.0)\n",
      "Requirement already satisfied: requests>=2.18.4 in /anaconda/envs/azureml_py38/lib/python3.8/site-packages (from azure-core!=1.22.0,<2.0.0,>=1.8.0->azure-ai-ml) (2.28.0)\n",
      "Requirement already satisfied: msal-extensions~=0.3.0 in /anaconda/envs/azureml_py38/lib/python3.8/site-packages (from azure-identity->azure-ai-ml) (0.3.1)\n",
      "Requirement already satisfied: msal<2.0.0,>=1.12.0 in /anaconda/envs/azureml_py38/lib/python3.8/site-packages (from azure-identity->azure-ai-ml) (1.18.0)\n",
      "Requirement already satisfied: cryptography>=2.5 in /anaconda/envs/azureml_py38/lib/python3.8/site-packages (from azure-identity->azure-ai-ml) (37.0.3)\n",
      "Requirement already satisfied: websocket-client>=0.32.0 in /anaconda/envs/azureml_py38/lib/python3.8/site-packages (from docker->azure-ai-ml) (1.3.3)\n",
      "Requirement already satisfied: python-dateutil>=2.6.0 in /anaconda/envs/azureml_py38/lib/python3.8/site-packages (from strictyaml<=1.6.1->azure-ai-ml) (2.8.2)\n",
      "Requirement already satisfied: packaging>=17.0 in /anaconda/envs/azureml_py38/lib/python3.8/site-packages (from marshmallow<4.0.0,>=3.5->azure-ai-ml) (21.3)\n",
      "Requirement already satisfied: certifi>=2017.4.17 in /anaconda/envs/azureml_py38/lib/python3.8/site-packages (from msrest>=0.6.18->azure-ai-ml) (2022.6.15)\n",
      "Requirement already satisfied: requests-oauthlib>=0.5.0 in /anaconda/envs/azureml_py38/lib/python3.8/site-packages (from msrest>=0.6.18->azure-ai-ml) (1.3.1)\n",
      "Requirement already satisfied: attrs>=17.4.0 in /anaconda/envs/azureml_py38/lib/python3.8/site-packages (from jsonschema<5.0.0,>=4.0.0->azure-ai-ml) (21.4.0)\n",
      "Requirement already satisfied: importlib-resources>=1.4.0; python_version < \"3.9\" in /anaconda/envs/azureml_py38/lib/python3.8/site-packages (from jsonschema<5.0.0,>=4.0.0->azure-ai-ml) (5.8.0)\n",
      "Requirement already satisfied: pyrsistent!=0.17.0,!=0.17.1,!=0.17.2,>=0.14.0 in /anaconda/envs/azureml_py38/lib/python3.8/site-packages (from jsonschema<5.0.0,>=4.0.0->azure-ai-ml) (0.18.1)\n",
      "Requirement already satisfied: urllib3<1.27,>=1.21.1 in /anaconda/envs/azureml_py38/lib/python3.8/site-packages (from requests>=2.18.4->azure-core!=1.22.0,<2.0.0,>=1.8.0->azure-ai-ml) (1.26.9)\n",
      "Requirement already satisfied: idna<4,>=2.5 in /anaconda/envs/azureml_py38/lib/python3.8/site-packages (from requests>=2.18.4->azure-core!=1.22.0,<2.0.0,>=1.8.0->azure-ai-ml) (3.3)\n",
      "Requirement already satisfied: charset-normalizer~=2.0.0 in /anaconda/envs/azureml_py38/lib/python3.8/site-packages (from requests>=2.18.4->azure-core!=1.22.0,<2.0.0,>=1.8.0->azure-ai-ml) (2.0.12)\n",
      "Requirement already satisfied: portalocker<3,>=1.0; python_version >= \"3.5\" and platform_system != \"Windows\" in /anaconda/envs/azureml_py38/lib/python3.8/site-packages (from msal-extensions~=0.3.0->azure-identity->azure-ai-ml) (2.4.0)\n",
      "Requirement already satisfied: cffi>=1.12 in /anaconda/envs/azureml_py38/lib/python3.8/site-packages (from cryptography>=2.5->azure-identity->azure-ai-ml) (1.15.0)\n",
      "Requirement already satisfied: pyparsing!=3.0.5,>=2.0.2 in /anaconda/envs/azureml_py38/lib/python3.8/site-packages (from packaging>=17.0->marshmallow<4.0.0,>=3.5->azure-ai-ml) (3.0.9)\n",
      "Requirement already satisfied: oauthlib>=3.0.0 in /anaconda/envs/azureml_py38/lib/python3.8/site-packages (from requests-oauthlib>=0.5.0->msrest>=0.6.18->azure-ai-ml) (3.2.0)\n",
      "Requirement already satisfied: zipp>=3.1.0; python_version < \"3.10\" in /anaconda/envs/azureml_py38/lib/python3.8/site-packages (from importlib-resources>=1.4.0; python_version < \"3.9\"->jsonschema<5.0.0,>=4.0.0->azure-ai-ml) (3.8.0)\n",
      "Requirement already satisfied: pycparser in /anaconda/envs/azureml_py38/lib/python3.8/site-packages (from cffi>=1.12->cryptography>=2.5->azure-identity->azure-ai-ml) (2.21)\n",
      "Building wheels for collected packages: strictyaml\n",
      "  Building wheel for strictyaml (setup.py) ... \u001b[?25ldone\n",
      "\u001b[?25h  Created wheel for strictyaml: filename=strictyaml-1.6.1-py3-none-any.whl size=123915 sha256=dc933b2321b2cd090d55ff75c68f44c0369708356a2b035e460fc1699e826762\n",
      "  Stored in directory: /home/azureuser/.cache/pip/wheels/24/8b/79/d11bb76d63bc1b37df7bd35dc1e47577eb926b7eb1b619fc2d\n",
      "Successfully built strictyaml\n",
      "\u001b[31mERROR: fbprophet 0.7.1 requires cmdstanpy==0.9.5, which is not installed.\u001b[0m\n",
      "\u001b[31mERROR: pycaret 2.3.10 has requirement pyyaml<6.0.0, but you'll have pyyaml 6.0 which is incompatible.\u001b[0m\n",
      "\u001b[31mERROR: pycaret 2.3.10 has requirement scikit-learn==0.23.2, but you'll have scikit-learn 0.22.1 which is incompatible.\u001b[0m\n",
      "\u001b[31mERROR: pandas-profiling 3.2.0 has requirement joblib~=1.1.0, but you'll have joblib 0.14.1 which is incompatible.\u001b[0m\n",
      "\u001b[31mERROR: pandas-profiling 3.2.0 has requirement markupsafe~=2.1.1, but you'll have markupsafe 2.0.1 which is incompatible.\u001b[0m\n",
      "\u001b[31mERROR: datasets 1.8.0 has requirement tqdm<4.50.0,>=4.27, but you'll have tqdm 4.63.0 which is incompatible.\u001b[0m\n",
      "\u001b[31mERROR: azureml-mlflow 1.43.0.post1 has requirement azure-storage-blob<=12.9.0,>=12.5.0, but you'll have azure-storage-blob 12.12.0 which is incompatible.\u001b[0m\n",
      "\u001b[31mERROR: azureml-contrib-notebook 1.43.0 has requirement nbconvert<6, but you'll have nbconvert 6.5.0 which is incompatible.\u001b[0m\n",
      "\u001b[31mERROR: azure-storage-blob 12.12.0 has requirement azure-core<2.0.0,>=1.23.1, but you'll have azure-core 1.22.1 which is incompatible.\u001b[0m\n",
      "\u001b[31mERROR: azure-cli 2.38.0 has requirement azure-graphrbac~=0.60.0, but you'll have azure-graphrbac 0.61.1 which is incompatible.\u001b[0m\n",
      "\u001b[31mERROR: azure-cli 2.38.0 has requirement azure-mgmt-authorization~=0.61.0, but you'll have azure-mgmt-authorization 2.0.0 which is incompatible.\u001b[0m\n",
      "\u001b[31mERROR: azure-cli 2.38.0 has requirement azure-mgmt-containerregistry==8.2.0, but you'll have azure-mgmt-containerregistry 10.0.0 which is incompatible.\u001b[0m\n",
      "\u001b[31mERROR: azure-cli 2.38.0 has requirement azure-mgmt-keyvault==9.3.0, but you'll have azure-mgmt-keyvault 10.0.0 which is incompatible.\u001b[0m\n",
      "\u001b[31mERROR: azure-cli 2.38.0 has requirement azure-mgmt-resource==21.1.0b1, but you'll have azure-mgmt-resource 21.1.0 which is incompatible.\u001b[0m\n",
      "\u001b[31mERROR: azure-storage-file-share 12.8.0 has requirement azure-core<2.0.0,>=1.23.1, but you'll have azure-core 1.22.1 which is incompatible.\u001b[0m\n",
      "\u001b[31mERROR: azure-storage-file-datalake 12.7.0 has requirement azure-core<2.0.0,>=1.23.1, but you'll have azure-core 1.22.1 which is incompatible.\u001b[0m\n",
      "Installing collected packages: colorama, tqdm, strictyaml, marshmallow, azure-storage-file-share, pydash, azure-storage-blob, azure-storage-file-datalake, azure-ai-ml\n",
      "  Attempting uninstall: colorama\n",
      "    Found existing installation: colorama 0.4.5\n",
      "    Uninstalling colorama-0.4.5:\n",
      "      Successfully uninstalled colorama-0.4.5\n",
      "  Attempting uninstall: tqdm\n",
      "    Found existing installation: tqdm 4.64.0\n",
      "    Uninstalling tqdm-4.64.0:\n",
      "      Successfully uninstalled tqdm-4.64.0\n",
      "  Attempting uninstall: azure-storage-blob\n",
      "    Found existing installation: azure-storage-blob 12.9.0\n",
      "    Uninstalling azure-storage-blob-12.9.0:\n",
      "      Successfully uninstalled azure-storage-blob-12.9.0\n",
      "Successfully installed azure-ai-ml-0.1.0b6 azure-storage-blob-12.12.0 azure-storage-file-datalake-12.7.0 azure-storage-file-share-12.8.0 colorama-0.4.4 marshmallow-3.17.1 pydash-4.9.0 strictyaml-1.6.1 tqdm-4.63.0\n",
      "Note: you may need to restart the kernel to use updated packages.\n"
     ]
    }
   ],
   "source": [
    "pip install --pre azure-ai-ml"
   ]
  },
  {
   "cell_type": "code",
   "execution_count": 1,
   "id": "9a10b911",
   "metadata": {},
   "outputs": [],
   "source": [
    "# Import required libraries\n",
    "from azure.ai.ml import MLClient"
   ]
  },
  {
   "cell_type": "code",
   "execution_count": 2,
   "id": "d056a5ab",
   "metadata": {},
   "outputs": [],
   "source": [
    "from azure.identity import DefaultAzureCredential, InteractiveBrowserCredential\n",
    "\n",
    "try:\n",
    "    credential = DefaultAzureCredential()\n",
    "    # Check if given credential can get token successfully.\n",
    "    credential.get_token(\"https://management.azure.com/.default\")\n",
    "except Exception as ex:\n",
    "    # Fall back to InteractiveBrowserCredential in case DefaultAzureCredential not work\n",
    "    # This will open a browser page for\n",
    "    credential = InteractiveBrowserCredential()"
   ]
  },
  {
   "cell_type": "code",
   "execution_count": 3,
   "id": "d9ff386e",
   "metadata": {},
   "outputs": [
    {
     "name": "stderr",
     "output_type": "stream",
     "text": [
      "Found the config file in: ../.azureml/config.json\n"
     ]
    },
    {
     "name": "stdout",
     "output_type": "stream",
     "text": [
      "MLClient(credential=<azure.identity._credentials.default.DefaultAzureCredential object at 0x7fc7e9976b50>,\n",
      "         subscription_id=<<SUBSCRIPTION_ID>>,\n",
      "         resource_group_name=<<RESOURCE_GROUP_NAME>>,\n",
      "         workspace_name=<<MACHINE_LEARNING_WORKSPACE_NAME>>)\n"
     ]
    }
   ],
   "source": [
    "try:\n",
    "    ml_client = MLClient.from_config(credential=credential)\n",
    "except Exception as ex:\n",
    "    # NOTE: Update following workspace information if not correctly configure before\n",
    "    client_config = {\n",
    "        \"subscription_id\": \"<<RESOURCE_GROUP_NAME>>\",\n",
    "        \"resource_group\": \"<<RESOURCE_GROUP_NAME>>\",\n",
    "        \"workspace_name\": \"<<MACHINE_LEARNING_WORKSPACE_NAME>>\",\n",
    "    }\n",
    "\n",
    "    if client_config[\"subscription_id\"].startswith(\"<\"):\n",
    "        print(\n",
    "            \"please update your <SUBSCRIPTION_ID> <RESOURCE_GROUP> <AML_WORKSPACE_NAME> in notebook cell\"\n",
    "        )\n",
    "        raise ex\n",
    "    else:  # write and reload from config file\n",
    "        import json, os\n",
    "\n",
    "        config_path = \"../.azureml/config.json\"\n",
    "        os.makedirs(os.path.dirname(config_path), exist_ok=True)\n",
    "        with open(config_path, \"w\") as fo:\n",
    "            fo.write(json.dumps(client_config))\n",
    "        ml_client = MLClient.from_config(credential=credential, path=config_path)\n",
    "print(ml_client)"
   ]
  },
  {
   "cell_type": "code",
   "execution_count": 4,
   "id": "a64bfa24",
   "metadata": {},
   "outputs": [],
   "source": [
    "from azure.ai.ml.entities import AmlCompute\n",
    "\n",
    "# specify aml compute name.\n",
    "cpu_compute_target = \"ComputeClusterDemo\"\n",
    "\n",
    "try:\n",
    "    ml_client.compute.get(cpu_compute_target)\n",
    "except Exception:\n",
    "    print(\"Compute cluster not found...\")\n",
    "    raise ex"
   ]
  },
  {
   "cell_type": "code",
   "execution_count": null,
   "id": "15b16edf",
   "metadata": {},
   "outputs": [],
   "source": []
  }
 ],
 "metadata": {
  "kernelspec": {
   "display_name": "Python 3.8 - AzureML",
   "language": "python",
   "name": "python38-azureml"
  },
  "language_info": {
   "codemirror_mode": {
    "name": "ipython",
    "version": 3
   },
   "file_extension": ".py",
   "mimetype": "text/x-python",
   "name": "python",
   "nbconvert_exporter": "python",
   "pygments_lexer": "ipython3",
   "version": "3.8.13"
  }
 },
 "nbformat": 4,
 "nbformat_minor": 5
}
