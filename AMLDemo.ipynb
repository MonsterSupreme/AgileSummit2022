{
 "cells": [
  {
   "cell_type": "code",
   "execution_count": 1,
   "id": "c8c83960",
   "metadata": {},
   "outputs": [],
   "source": [
    "from azure.ai.ml import MLClient"
   ]
  },
  {
   "cell_type": "code",
   "execution_count": 2,
   "id": "9b9a86dd",
   "metadata": {},
   "outputs": [
    {
     "name": "stdout",
     "output_type": "stream",
     "text": [
      "Found existing installation: azure-ai-ml 0.1.0b6\n",
      "Uninstalling azure-ai-ml-0.1.0b6:\n",
      "  Successfully uninstalled azure-ai-ml-0.1.0b6\n",
      "Note: you may need to restart the kernel to use updated packages.\n"
     ]
    }
   ],
   "source": [
    "pip uninstall azure-ai-ml --yes"
   ]
  },
  {
   "cell_type": "code",
   "execution_count": 1,
   "id": "75fb3ba1",
   "metadata": {},
   "outputs": [
    {
     "name": "stdout",
     "output_type": "stream",
     "text": [
      "Collecting azure-ai-ml\n",
      "  Using cached azure_ai_ml-0.1.0b6-py3-none-any.whl (2.7 MB)\n",
      "Requirement already satisfied: pyyaml<7.0.0,>=5.1.0 in /anaconda/envs/azureml_py38/lib/python3.8/site-packages (from azure-ai-ml) (6.0)\n",
      "Requirement already satisfied: applicationinsights<=0.11.10 in /anaconda/envs/azureml_py38/lib/python3.8/site-packages (from azure-ai-ml) (0.11.10)\n",
      "Requirement already satisfied: jsonschema<5.0.0,>=4.0.0 in /anaconda/envs/azureml_py38/lib/python3.8/site-packages (from azure-ai-ml) (4.6.0)\n",
      "Requirement already satisfied: azure-identity in /anaconda/envs/azureml_py38/lib/python3.8/site-packages (from azure-ai-ml) (1.7.0)\n",
      "Requirement already satisfied: azure-mgmt-core<2.0.0,>=1.2.0 in /anaconda/envs/azureml_py38/lib/python3.8/site-packages (from azure-ai-ml) (1.3.0)\n",
      "Requirement already satisfied: marshmallow<4.0.0,>=3.5 in /anaconda/envs/azureml_py38/lib/python3.8/site-packages (from azure-ai-ml) (3.17.1)\n",
      "Requirement already satisfied: azure-core!=1.22.0,<2.0.0,>=1.8.0 in /anaconda/envs/azureml_py38/lib/python3.8/site-packages (from azure-ai-ml) (1.22.1)\n",
      "Requirement already satisfied: colorama<=0.4.4 in /anaconda/envs/azureml_py38/lib/python3.8/site-packages (from azure-ai-ml) (0.4.4)\n",
      "Requirement already satisfied: tqdm<=4.63.0 in /anaconda/envs/azureml_py38/lib/python3.8/site-packages (from azure-ai-ml) (4.63.0)\n",
      "Requirement already satisfied: typing-extensions>=4.0.1 in /anaconda/envs/azureml_py38/lib/python3.8/site-packages (from azure-ai-ml) (4.2.0)\n",
      "Requirement already satisfied: isodate in /anaconda/envs/azureml_py38/lib/python3.8/site-packages (from azure-ai-ml) (0.6.1)\n",
      "Requirement already satisfied: azure-storage-file-share<12.9.0 in /anaconda/envs/azureml_py38/lib/python3.8/site-packages (from azure-ai-ml) (12.8.0)\n",
      "Requirement already satisfied: strictyaml<=1.6.1 in /anaconda/envs/azureml_py38/lib/python3.8/site-packages (from azure-ai-ml) (1.6.1)\n",
      "Requirement already satisfied: docker in /anaconda/envs/azureml_py38/lib/python3.8/site-packages (from azure-ai-ml) (5.0.3)\n",
      "Requirement already satisfied: azure-storage-blob<12.13.0,>=12.10.0 in /anaconda/envs/azureml_py38/lib/python3.8/site-packages (from azure-ai-ml) (12.12.0)\n",
      "Requirement already satisfied: azure-storage-file-datalake<12.8.0 in /anaconda/envs/azureml_py38/lib/python3.8/site-packages (from azure-ai-ml) (12.7.0)\n",
      "Requirement already satisfied: pydash<=4.9.0 in /anaconda/envs/azureml_py38/lib/python3.8/site-packages (from azure-ai-ml) (4.9.0)\n",
      "Requirement already satisfied: azure-common<2.0.0,>=1.1 in /anaconda/envs/azureml_py38/lib/python3.8/site-packages (from azure-ai-ml) (1.1.28)\n",
      "Requirement already satisfied: pathspec==0.9.* in /anaconda/envs/azureml_py38/lib/python3.8/site-packages (from azure-ai-ml) (0.9.0)\n",
      "Requirement already satisfied: pyjwt<3.0.0 in /anaconda/envs/azureml_py38/lib/python3.8/site-packages (from azure-ai-ml) (2.4.0)\n",
      "Requirement already satisfied: msrest>=0.6.18 in /anaconda/envs/azureml_py38/lib/python3.8/site-packages (from azure-ai-ml) (0.6.21)\n",
      "Requirement already satisfied: pyrsistent!=0.17.0,!=0.17.1,!=0.17.2,>=0.14.0 in /anaconda/envs/azureml_py38/lib/python3.8/site-packages (from jsonschema<5.0.0,>=4.0.0->azure-ai-ml) (0.18.1)\n",
      "Requirement already satisfied: attrs>=17.4.0 in /anaconda/envs/azureml_py38/lib/python3.8/site-packages (from jsonschema<5.0.0,>=4.0.0->azure-ai-ml) (21.4.0)\n",
      "Requirement already satisfied: importlib-resources>=1.4.0; python_version < \"3.9\" in /anaconda/envs/azureml_py38/lib/python3.8/site-packages (from jsonschema<5.0.0,>=4.0.0->azure-ai-ml) (5.8.0)\n",
      "Requirement already satisfied: msal-extensions~=0.3.0 in /anaconda/envs/azureml_py38/lib/python3.8/site-packages (from azure-identity->azure-ai-ml) (0.3.1)\n",
      "Requirement already satisfied: six>=1.12.0 in /anaconda/envs/azureml_py38/lib/python3.8/site-packages (from azure-identity->azure-ai-ml) (1.16.0)\n",
      "Requirement already satisfied: cryptography>=2.5 in /anaconda/envs/azureml_py38/lib/python3.8/site-packages (from azure-identity->azure-ai-ml) (37.0.3)\n",
      "Requirement already satisfied: msal<2.0.0,>=1.12.0 in /anaconda/envs/azureml_py38/lib/python3.8/site-packages (from azure-identity->azure-ai-ml) (1.18.0)\n",
      "Requirement already satisfied: packaging>=17.0 in /anaconda/envs/azureml_py38/lib/python3.8/site-packages (from marshmallow<4.0.0,>=3.5->azure-ai-ml) (21.3)\n",
      "Requirement already satisfied: requests>=2.18.4 in /anaconda/envs/azureml_py38/lib/python3.8/site-packages (from azure-core!=1.22.0,<2.0.0,>=1.8.0->azure-ai-ml) (2.28.0)\n",
      "Requirement already satisfied: python-dateutil>=2.6.0 in /anaconda/envs/azureml_py38/lib/python3.8/site-packages (from strictyaml<=1.6.1->azure-ai-ml) (2.8.2)\n",
      "Requirement already satisfied: websocket-client>=0.32.0 in /anaconda/envs/azureml_py38/lib/python3.8/site-packages (from docker->azure-ai-ml) (1.3.3)\n",
      "Requirement already satisfied: certifi>=2017.4.17 in /anaconda/envs/azureml_py38/lib/python3.8/site-packages (from msrest>=0.6.18->azure-ai-ml) (2022.6.15)\n",
      "Requirement already satisfied: requests-oauthlib>=0.5.0 in /anaconda/envs/azureml_py38/lib/python3.8/site-packages (from msrest>=0.6.18->azure-ai-ml) (1.3.1)\n",
      "Requirement already satisfied: zipp>=3.1.0; python_version < \"3.10\" in /anaconda/envs/azureml_py38/lib/python3.8/site-packages (from importlib-resources>=1.4.0; python_version < \"3.9\"->jsonschema<5.0.0,>=4.0.0->azure-ai-ml) (3.8.0)\n",
      "Requirement already satisfied: portalocker<3,>=1.0; python_version >= \"3.5\" and platform_system != \"Windows\" in /anaconda/envs/azureml_py38/lib/python3.8/site-packages (from msal-extensions~=0.3.0->azure-identity->azure-ai-ml) (2.4.0)\n",
      "Requirement already satisfied: cffi>=1.12 in /anaconda/envs/azureml_py38/lib/python3.8/site-packages (from cryptography>=2.5->azure-identity->azure-ai-ml) (1.15.0)\n",
      "Requirement already satisfied: pyparsing!=3.0.5,>=2.0.2 in /anaconda/envs/azureml_py38/lib/python3.8/site-packages (from packaging>=17.0->marshmallow<4.0.0,>=3.5->azure-ai-ml) (3.0.9)\n",
      "Requirement already satisfied: charset-normalizer~=2.0.0 in /anaconda/envs/azureml_py38/lib/python3.8/site-packages (from requests>=2.18.4->azure-core!=1.22.0,<2.0.0,>=1.8.0->azure-ai-ml) (2.0.12)\n",
      "Requirement already satisfied: idna<4,>=2.5 in /anaconda/envs/azureml_py38/lib/python3.8/site-packages (from requests>=2.18.4->azure-core!=1.22.0,<2.0.0,>=1.8.0->azure-ai-ml) (3.3)\n",
      "Requirement already satisfied: urllib3<1.27,>=1.21.1 in /anaconda/envs/azureml_py38/lib/python3.8/site-packages (from requests>=2.18.4->azure-core!=1.22.0,<2.0.0,>=1.8.0->azure-ai-ml) (1.26.9)\n",
      "Requirement already satisfied: oauthlib>=3.0.0 in /anaconda/envs/azureml_py38/lib/python3.8/site-packages (from requests-oauthlib>=0.5.0->msrest>=0.6.18->azure-ai-ml) (3.2.0)\n",
      "Requirement already satisfied: pycparser in /anaconda/envs/azureml_py38/lib/python3.8/site-packages (from cffi>=1.12->cryptography>=2.5->azure-identity->azure-ai-ml) (2.21)\n",
      "Installing collected packages: azure-ai-ml\n",
      "Successfully installed azure-ai-ml-0.1.0b6\n",
      "Note: you may need to restart the kernel to use updated packages.\n"
     ]
    }
   ],
   "source": [
    "pip install --pre azure-ai-ml"
   ]
  },
  {
   "cell_type": "code",
   "execution_count": 1,
   "id": "31c09751",
   "metadata": {
    "scrolled": true
   },
   "outputs": [
    {
     "name": "stdout",
     "output_type": "stream",
     "text": [
      "Requirement already satisfied: mlflow in /anaconda/envs/azureml_py38/lib/python3.8/site-packages (1.27.0)\n",
      "Collecting argparse\n",
      "  Downloading argparse-1.4.0-py2.py3-none-any.whl (23 kB)\n",
      "Requirement already satisfied: pandas in /anaconda/envs/azureml_py38/lib/python3.8/site-packages (1.1.5)\n",
      "Requirement already satisfied: lightgbm in /anaconda/envs/azureml_py38/lib/python3.8/site-packages (3.2.1)\n",
      "Requirement already satisfied: matplotlib in /anaconda/envs/azureml_py38/lib/python3.8/site-packages (3.2.1)\n",
      "Collecting sklearn\n",
      "  Downloading sklearn-0.0.tar.gz (1.1 kB)\n",
      "Requirement already satisfied: importlib-metadata!=4.7.0,>=3.7.0 in /anaconda/envs/azureml_py38/lib/python3.8/site-packages (from mlflow) (4.11.4)\n",
      "Requirement already satisfied: entrypoints in /anaconda/envs/azureml_py38/lib/python3.8/site-packages (from mlflow) (0.4)\n",
      "Requirement already satisfied: gitpython>=2.1.0 in /anaconda/envs/azureml_py38/lib/python3.8/site-packages (from mlflow) (3.1.27)\n",
      "Requirement already satisfied: databricks-cli>=0.8.7 in /anaconda/envs/azureml_py38/lib/python3.8/site-packages (from mlflow) (0.17.0)\n",
      "Requirement already satisfied: cloudpickle in /anaconda/envs/azureml_py38/lib/python3.8/site-packages (from mlflow) (1.6.0)\n",
      "Requirement already satisfied: protobuf>=3.12.0 in /anaconda/envs/azureml_py38/lib/python3.8/site-packages (from mlflow) (3.20.1)\n",
      "Requirement already satisfied: pytz in /anaconda/envs/azureml_py38/lib/python3.8/site-packages (from mlflow) (2019.3)\n",
      "Requirement already satisfied: sqlalchemy>=1.4.0 in /anaconda/envs/azureml_py38/lib/python3.8/site-packages (from mlflow) (1.4.39)\n",
      "Requirement already satisfied: click>=7.0 in /anaconda/envs/azureml_py38/lib/python3.8/site-packages (from mlflow) (7.1.2)\n",
      "Requirement already satisfied: docker>=4.0.0 in /anaconda/envs/azureml_py38/lib/python3.8/site-packages (from mlflow) (5.0.3)\n",
      "Requirement already satisfied: packaging in /anaconda/envs/azureml_py38/lib/python3.8/site-packages (from mlflow) (21.3)\n",
      "Requirement already satisfied: sqlparse>=0.3.1 in /anaconda/envs/azureml_py38/lib/python3.8/site-packages (from mlflow) (0.4.2)\n",
      "Requirement already satisfied: Flask in /anaconda/envs/azureml_py38/lib/python3.8/site-packages (from mlflow) (1.0.3)\n",
      "Requirement already satisfied: pyyaml>=5.1 in /anaconda/envs/azureml_py38/lib/python3.8/site-packages (from mlflow) (6.0)\n",
      "Requirement already satisfied: requests>=2.17.3 in /anaconda/envs/azureml_py38/lib/python3.8/site-packages (from mlflow) (2.28.0)\n",
      "Requirement already satisfied: numpy in /anaconda/envs/azureml_py38/lib/python3.8/site-packages (from mlflow) (1.19.0)\n",
      "Requirement already satisfied: gunicorn; platform_system != \"Windows\" in /anaconda/envs/azureml_py38/lib/python3.8/site-packages (from mlflow) (20.1.0)\n",
      "Requirement already satisfied: alembic in /anaconda/envs/azureml_py38/lib/python3.8/site-packages (from mlflow) (1.8.1)\n",
      "Requirement already satisfied: prometheus-flask-exporter in /anaconda/envs/azureml_py38/lib/python3.8/site-packages (from mlflow) (0.20.2)\n",
      "Requirement already satisfied: querystring-parser in /anaconda/envs/azureml_py38/lib/python3.8/site-packages (from mlflow) (1.2.4)\n",
      "Requirement already satisfied: scipy in /anaconda/envs/azureml_py38/lib/python3.8/site-packages (from mlflow) (1.5.3)\n",
      "Requirement already satisfied: python-dateutil>=2.7.3 in /anaconda/envs/azureml_py38/lib/python3.8/site-packages (from pandas) (2.8.2)\n",
      "Requirement already satisfied: wheel in /anaconda/envs/azureml_py38/lib/python3.8/site-packages (from lightgbm) (0.37.1)\n",
      "Requirement already satisfied: scikit-learn!=0.22.0 in /anaconda/envs/azureml_py38/lib/python3.8/site-packages (from lightgbm) (0.22.1)\n",
      "Requirement already satisfied: pyparsing!=2.0.4,!=2.1.2,!=2.1.6,>=2.0.1 in /anaconda/envs/azureml_py38/lib/python3.8/site-packages (from matplotlib) (3.0.9)\n",
      "Requirement already satisfied: cycler>=0.10 in /anaconda/envs/azureml_py38/lib/python3.8/site-packages (from matplotlib) (0.11.0)\n",
      "Requirement already satisfied: kiwisolver>=1.0.1 in /anaconda/envs/azureml_py38/lib/python3.8/site-packages (from matplotlib) (1.4.3)\n",
      "Requirement already satisfied: zipp>=0.5 in /anaconda/envs/azureml_py38/lib/python3.8/site-packages (from importlib-metadata!=4.7.0,>=3.7.0->mlflow) (3.8.0)\n",
      "Requirement already satisfied: gitdb<5,>=4.0.1 in /anaconda/envs/azureml_py38/lib/python3.8/site-packages (from gitpython>=2.1.0->mlflow) (4.0.9)\n",
      "Requirement already satisfied: tabulate>=0.7.7 in /anaconda/envs/azureml_py38/lib/python3.8/site-packages (from databricks-cli>=0.8.7->mlflow) (0.8.10)\n",
      "Requirement already satisfied: pyjwt>=1.7.0 in /anaconda/envs/azureml_py38/lib/python3.8/site-packages (from databricks-cli>=0.8.7->mlflow) (2.4.0)\n",
      "Requirement already satisfied: oauthlib>=3.1.0 in /anaconda/envs/azureml_py38/lib/python3.8/site-packages (from databricks-cli>=0.8.7->mlflow) (3.2.0)\n",
      "Requirement already satisfied: six>=1.10.0 in /anaconda/envs/azureml_py38/lib/python3.8/site-packages (from databricks-cli>=0.8.7->mlflow) (1.16.0)\n",
      "Requirement already satisfied: greenlet!=0.4.17; python_version >= \"3\" and (platform_machine == \"aarch64\" or (platform_machine == \"ppc64le\" or (platform_machine == \"x86_64\" or (platform_machine == \"amd64\" or (platform_machine == \"AMD64\" or (platform_machine == \"win32\" or platform_machine == \"WIN32\")))))) in /anaconda/envs/azureml_py38/lib/python3.8/site-packages (from sqlalchemy>=1.4.0->mlflow) (1.1.2)\n",
      "Requirement already satisfied: websocket-client>=0.32.0 in /anaconda/envs/azureml_py38/lib/python3.8/site-packages (from docker>=4.0.0->mlflow) (1.3.3)\n",
      "Requirement already satisfied: Jinja2>=2.10 in /anaconda/envs/azureml_py38/lib/python3.8/site-packages (from Flask->mlflow) (2.11.2)\n",
      "Requirement already satisfied: Werkzeug>=0.14 in /anaconda/envs/azureml_py38/lib/python3.8/site-packages (from Flask->mlflow) (1.0.1)\n",
      "Requirement already satisfied: itsdangerous>=0.24 in /anaconda/envs/azureml_py38/lib/python3.8/site-packages (from Flask->mlflow) (1.1.0)\n",
      "Requirement already satisfied: idna<4,>=2.5 in /anaconda/envs/azureml_py38/lib/python3.8/site-packages (from requests>=2.17.3->mlflow) (3.3)\n",
      "Requirement already satisfied: urllib3<1.27,>=1.21.1 in /anaconda/envs/azureml_py38/lib/python3.8/site-packages (from requests>=2.17.3->mlflow) (1.26.9)\n",
      "Requirement already satisfied: certifi>=2017.4.17 in /anaconda/envs/azureml_py38/lib/python3.8/site-packages (from requests>=2.17.3->mlflow) (2022.6.15)\n",
      "Requirement already satisfied: charset-normalizer~=2.0.0 in /anaconda/envs/azureml_py38/lib/python3.8/site-packages (from requests>=2.17.3->mlflow) (2.0.12)\n",
      "Requirement already satisfied: setuptools>=3.0 in /anaconda/envs/azureml_py38/lib/python3.8/site-packages (from gunicorn; platform_system != \"Windows\"->mlflow) (49.6.0)\n",
      "Requirement already satisfied: Mako in /anaconda/envs/azureml_py38/lib/python3.8/site-packages (from alembic->mlflow) (1.2.1)\n",
      "Requirement already satisfied: importlib-resources; python_version < \"3.9\" in /anaconda/envs/azureml_py38/lib/python3.8/site-packages (from alembic->mlflow) (5.8.0)\n",
      "Requirement already satisfied: prometheus-client in /anaconda/envs/azureml_py38/lib/python3.8/site-packages (from prometheus-flask-exporter->mlflow) (0.14.1)\n",
      "Requirement already satisfied: joblib>=0.11 in /anaconda/envs/azureml_py38/lib/python3.8/site-packages (from scikit-learn!=0.22.0->lightgbm) (0.14.1)\n",
      "Requirement already satisfied: smmap<6,>=3.0.1 in /anaconda/envs/azureml_py38/lib/python3.8/site-packages (from gitdb<5,>=4.0.1->gitpython>=2.1.0->mlflow) (5.0.0)\n",
      "Requirement already satisfied: MarkupSafe>=0.23 in /anaconda/envs/azureml_py38/lib/python3.8/site-packages (from Jinja2>=2.10->Flask->mlflow) (2.0.1)\n",
      "Building wheels for collected packages: sklearn\n",
      "  Building wheel for sklearn (setup.py) ... \u001b[?25ldone\n",
      "\u001b[?25h  Created wheel for sklearn: filename=sklearn-0.0-py2.py3-none-any.whl size=1316 sha256=a3562ce1e232556f8eb827c6162a6cbaa061d516175aa6e6dde5c73ca55fe252\n",
      "  Stored in directory: /home/azureuser/.cache/pip/wheels/22/0b/40/fd3f795caaa1fb4c6cb738bc1f56100be1e57da95849bfc897\n",
      "Successfully built sklearn\n",
      "\u001b[31mERROR: pyldavis 3.3.1 has requirement numpy>=1.20.0, but you'll have numpy 1.19.0 which is incompatible.\u001b[0m\n",
      "\u001b[31mERROR: pyldavis 3.3.1 has requirement pandas>=1.2.0, but you'll have pandas 1.1.5 which is incompatible.\u001b[0m\n",
      "\u001b[31mERROR: pycaret 2.3.10 has requirement pyyaml<6.0.0, but you'll have pyyaml 6.0 which is incompatible.\u001b[0m\n",
      "\u001b[31mERROR: pycaret 2.3.10 has requirement scikit-learn==0.23.2, but you'll have scikit-learn 0.22.1 which is incompatible.\u001b[0m\n",
      "Installing collected packages: argparse, sklearn\n",
      "Successfully installed argparse-1.4.0 sklearn-0.0\n",
      "Note: you may need to restart the kernel to use updated packages.\n"
     ]
    }
   ],
   "source": [
    "pip install mlflow argparse pandas lightgbm matplotlib sklearn"
   ]
  },
  {
   "cell_type": "code",
   "execution_count": 1,
   "id": "9a10b911",
   "metadata": {},
   "outputs": [],
   "source": [
    "# Import required libraries\n",
    "\n",
    "# Credentials\n",
    "from azure.identity import DefaultAzureCredential, InteractiveBrowserCredential\n",
    "# Machine Learning Workspace\n",
    "from azure.ai.ml import MLClient\n",
    "# Compute Target\n",
    "from azure.ai.ml.entities import AmlCompute\n",
    "# Command and Arguments\n",
    "from azure.ai.ml import command, Input"
   ]
  },
  {
   "cell_type": "code",
   "execution_count": 2,
   "id": "d056a5ab",
   "metadata": {},
   "outputs": [],
   "source": [
    "try:\n",
    "    credential = DefaultAzureCredential()\n",
    "    # Check if given credential can get token successfully.\n",
    "    credential.get_token(\"https://management.azure.com/.default\")\n",
    "except Exception as ex:\n",
    "    # Fall back to InteractiveBrowserCredential in case DefaultAzureCredential not work\n",
    "    # This will open a browser page for\n",
    "    credential = InteractiveBrowserCredential()"
   ]
  },
  {
   "cell_type": "code",
   "execution_count": 3,
   "id": "d9ff386e",
   "metadata": {},
   "outputs": [
    {
     "name": "stdout",
     "output_type": "stream",
     "text": [
      "MLClient(credential=<azure.identity._credentials.default.DefaultAzureCredential object at 0x7fd583b3b9a0>,\n",
      "         subscription_id=630fbb67-7809-49f9-af9c-55704307b953,\n",
      "         resource_group_name=RG_MachineLearning,\n",
      "         workspace_name=mlaiws)\n"
     ]
    }
   ],
   "source": [
    "# Get a handle to the workspace\n",
    "ml_client = MLClient(\n",
    "    credential=credential,\n",
    "    subscription_id=\"630fbb67-7809-49f9-af9c-55704307b953\",\n",
    "    resource_group_name=\"RG_MachineLearning\",\n",
    "    workspace_name=\"mlaiws\"\n",
    ")\n",
    "print(ml_client)"
   ]
  },
  {
   "cell_type": "code",
   "execution_count": 4,
   "id": "a64bfa24",
   "metadata": {},
   "outputs": [
    {
     "name": "stdout",
     "output_type": "stream",
     "text": [
      "ComputeClusterDemo of node size STANDARD_DS3_V2 is reused.\n"
     ]
    }
   ],
   "source": [
    "compute_target_name = \"ComputeClusterDemo\"\n",
    "\n",
    "try:\n",
    "    # Check if the compute target already exists\n",
    "    compute_target = ml_client.compute.get(compute_target_name)\n",
    "    print(f\"{compute_target.name} of node size {compute_target.size} is reused.\")\n",
    "except Exception:\n",
    "    compute_target = AmlCompute(\n",
    "        name=compute_target_name,\n",
    "        type=\"amlcompute\",\n",
    "        size=\"Standard_DS3_v2\",\n",
    "        min_instances=0,\n",
    "        max_instances=1,\n",
    "        idle_time_before_scale_down=120,\n",
    "        tier=\"Dedicated\"\n",
    "    )\n",
    "    compute_target = ml_client.begin_create_or_update(compute_target)\n",
    "    print(f\"{compute_target.name} of node size {compute_target.size} is created.\")"
   ]
  },
  {
   "cell_type": "code",
   "execution_count": 5,
   "id": "15b16edf",
   "metadata": {},
   "outputs": [],
   "source": [
    "# Define the command\n",
    "command_job = command(\n",
    "    code=\"./src\",\n",
    "    command=\"python main.py --iris-csv ${{inputs.csv}} --learning-rate ${{inputs.rate}} --boosting ${{inputs.boost}}\",\n",
    "    environment=\"AzureML-lightgbm-3.2-ubuntu18.04-py37-cpu@latest\",\n",
    "    inputs={\n",
    "        \"csv\": Input(\n",
    "            type=\"uri_file\",\n",
    "            path=\"https://azuremlexamples.blob.core.windows.net/datasets/iris.csv\",\n",
    "        ),\n",
    "        \"rate\": 0.9,\n",
    "        \"boost\": \"gbdt\",\n",
    "    },\n",
    "    compute=\"ComputeClusterDemo\",\n",
    ")"
   ]
  },
  {
   "cell_type": "code",
   "execution_count": 6,
   "id": "3ca788b6",
   "metadata": {},
   "outputs": [
    {
     "name": "stderr",
     "output_type": "stream",
     "text": [
      "\u001b[32mUploading src (0.0 MBs): 100%|██████████| 2825/2825 [00:00<00:00, 194330.42it/s]\n",
      "\u001b[39m\n",
      "\n"
     ]
    },
    {
     "name": "stdout",
     "output_type": "stream",
     "text": [
      "https://ml.azure.com/runs/jolly_pear_qlcwymdn6f?wsid=/subscriptions/630fbb67-7809-49f9-af9c-55704307b953/resourcegroups/RG_MachineLearning/workspaces/mlaiws&tid=d18376e2-1716-4c44-bb34-672b431bebc2\n"
     ]
    }
   ],
   "source": [
    "# Submit the command\n",
    "returned_job = ml_client.jobs.create_or_update(command_job)\n",
    "# Get a URL for the status of the job\n",
    "print(returned_job.services[\"Studio\"].endpoint)"
   ]
  },
  {
   "cell_type": "code",
   "execution_count": null,
   "id": "b71a9a9c",
   "metadata": {},
   "outputs": [],
   "source": []
  }
 ],
 "metadata": {
  "kernelspec": {
   "display_name": "Python 3.8 - AzureML",
   "language": "python",
   "name": "python38-azureml"
  },
  "language_info": {
   "codemirror_mode": {
    "name": "ipython",
    "version": 3
   },
   "file_extension": ".py",
   "mimetype": "text/x-python",
   "name": "python",
   "nbconvert_exporter": "python",
   "pygments_lexer": "ipython3",
   "version": "3.8.13"
  }
 },
 "nbformat": 4,
 "nbformat_minor": 5
}
